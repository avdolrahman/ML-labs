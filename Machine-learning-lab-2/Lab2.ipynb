{
 "cells": [
  {
   "cell_type": "code",
   "execution_count": 1,
   "metadata": {},
   "outputs": [],
   "source": [
    "import numpy as np\n",
    "import matplotlib.pyplot as plt\n",
    "import pandas as pd\n"
   ]
  },
  {
   "cell_type": "markdown",
   "metadata": {},
   "source": [
    "### Question 2 "
   ]
  },
  {
   "cell_type": "code",
   "execution_count": 2,
   "metadata": {},
   "outputs": [
    {
     "data": {
      "text/html": [
       "<div>\n",
       "<style scoped>\n",
       "    .dataframe tbody tr th:only-of-type {\n",
       "        vertical-align: middle;\n",
       "    }\n",
       "\n",
       "    .dataframe tbody tr th {\n",
       "        vertical-align: top;\n",
       "    }\n",
       "\n",
       "    .dataframe thead th {\n",
       "        text-align: right;\n",
       "    }\n",
       "</style>\n",
       "<table border=\"1\" class=\"dataframe\">\n",
       "  <thead>\n",
       "    <tr style=\"text-align: right;\">\n",
       "      <th></th>\n",
       "      <th>Petal Length</th>\n",
       "      <th>Petal Width</th>\n",
       "      <th>Sepal Length</th>\n",
       "      <th>Sepal Width</th>\n",
       "      <th>Species Type</th>\n",
       "    </tr>\n",
       "  </thead>\n",
       "  <tbody>\n",
       "    <tr>\n",
       "      <th>0</th>\n",
       "      <td>5.1</td>\n",
       "      <td>3.5</td>\n",
       "      <td>1.4</td>\n",
       "      <td>0.2</td>\n",
       "      <td>Iris-setosa</td>\n",
       "    </tr>\n",
       "    <tr>\n",
       "      <th>1</th>\n",
       "      <td>4.9</td>\n",
       "      <td>3.0</td>\n",
       "      <td>1.4</td>\n",
       "      <td>0.2</td>\n",
       "      <td>Iris-setosa</td>\n",
       "    </tr>\n",
       "    <tr>\n",
       "      <th>2</th>\n",
       "      <td>4.7</td>\n",
       "      <td>3.2</td>\n",
       "      <td>1.3</td>\n",
       "      <td>0.2</td>\n",
       "      <td>Iris-setosa</td>\n",
       "    </tr>\n",
       "    <tr>\n",
       "      <th>3</th>\n",
       "      <td>4.6</td>\n",
       "      <td>3.1</td>\n",
       "      <td>1.5</td>\n",
       "      <td>0.2</td>\n",
       "      <td>Iris-setosa</td>\n",
       "    </tr>\n",
       "    <tr>\n",
       "      <th>4</th>\n",
       "      <td>5.0</td>\n",
       "      <td>3.6</td>\n",
       "      <td>1.4</td>\n",
       "      <td>0.2</td>\n",
       "      <td>Iris-setosa</td>\n",
       "    </tr>\n",
       "  </tbody>\n",
       "</table>\n",
       "</div>"
      ],
      "text/plain": [
       "   Petal Length  Petal Width  Sepal Length  Sepal Width Species Type\n",
       "0           5.1          3.5           1.4          0.2  Iris-setosa\n",
       "1           4.9          3.0           1.4          0.2  Iris-setosa\n",
       "2           4.7          3.2           1.3          0.2  Iris-setosa\n",
       "3           4.6          3.1           1.5          0.2  Iris-setosa\n",
       "4           5.0          3.6           1.4          0.2  Iris-setosa"
      ]
     },
     "execution_count": 2,
     "metadata": {},
     "output_type": "execute_result"
    }
   ],
   "source": [
    "from pandas import read_csv\n",
    "# a function that takes filepath as string and returns the data included\n",
    "def load_data(filepath: str) -> pd.DataFrame:\n",
    "    # setting the names of data coloumns\n",
    "    coloumn_names = ['Petal Length','Petal Width', 'Sepal Length', 'Sepal Width', 'Species Type'] \n",
    "    data = pd.read_csv(filepath, names =coloumn_names)\n",
    "    data_1 = pd.DataFrame(data)\n",
    "    \n",
    "    return data_1\n",
    "data_1 = load_data('iris.data')\n",
    "#  head() print the first 5 rows of  data \n",
    "data_1.head()"
   ]
  },
  {
   "cell_type": "code",
   "execution_count": 3,
   "metadata": {},
   "outputs": [
    {
     "name": "stdout",
     "output_type": "stream",
     "text": [
      "<class 'pandas.core.frame.DataFrame'>\n",
      "RangeIndex: 150 entries, 0 to 149\n",
      "Data columns (total 5 columns):\n",
      " #   Column        Non-Null Count  Dtype  \n",
      "---  ------        --------------  -----  \n",
      " 0   Petal Length  150 non-null    float64\n",
      " 1   Petal Width   150 non-null    float64\n",
      " 2   Sepal Length  150 non-null    float64\n",
      " 3   Sepal Width   150 non-null    float64\n",
      " 4   Species Type  150 non-null    object \n",
      "dtypes: float64(4), object(1)\n",
      "memory usage: 6.0+ KB\n"
     ]
    }
   ],
   "source": [
    "data_1.info()"
   ]
  },
  {
   "cell_type": "code",
   "execution_count": 4,
   "metadata": {},
   "outputs": [
    {
     "data": {
      "text/html": [
       "<div>\n",
       "<style scoped>\n",
       "    .dataframe tbody tr th:only-of-type {\n",
       "        vertical-align: middle;\n",
       "    }\n",
       "\n",
       "    .dataframe tbody tr th {\n",
       "        vertical-align: top;\n",
       "    }\n",
       "\n",
       "    .dataframe thead th {\n",
       "        text-align: right;\n",
       "    }\n",
       "</style>\n",
       "<table border=\"1\" class=\"dataframe\">\n",
       "  <thead>\n",
       "    <tr style=\"text-align: right;\">\n",
       "      <th></th>\n",
       "      <th>Petal Length</th>\n",
       "      <th>Petal Width</th>\n",
       "      <th>Sepal Length</th>\n",
       "      <th>Sepal Width</th>\n",
       "      <th>Species Type</th>\n",
       "      <th>target</th>\n",
       "    </tr>\n",
       "  </thead>\n",
       "  <tbody>\n",
       "    <tr>\n",
       "      <th>0</th>\n",
       "      <td>5.1</td>\n",
       "      <td>3.5</td>\n",
       "      <td>1.4</td>\n",
       "      <td>0.2</td>\n",
       "      <td>Iris-setosa</td>\n",
       "      <td>1</td>\n",
       "    </tr>\n",
       "    <tr>\n",
       "      <th>1</th>\n",
       "      <td>4.9</td>\n",
       "      <td>3.0</td>\n",
       "      <td>1.4</td>\n",
       "      <td>0.2</td>\n",
       "      <td>Iris-setosa</td>\n",
       "      <td>1</td>\n",
       "    </tr>\n",
       "    <tr>\n",
       "      <th>2</th>\n",
       "      <td>4.7</td>\n",
       "      <td>3.2</td>\n",
       "      <td>1.3</td>\n",
       "      <td>0.2</td>\n",
       "      <td>Iris-setosa</td>\n",
       "      <td>1</td>\n",
       "    </tr>\n",
       "    <tr>\n",
       "      <th>3</th>\n",
       "      <td>4.6</td>\n",
       "      <td>3.1</td>\n",
       "      <td>1.5</td>\n",
       "      <td>0.2</td>\n",
       "      <td>Iris-setosa</td>\n",
       "      <td>1</td>\n",
       "    </tr>\n",
       "    <tr>\n",
       "      <th>4</th>\n",
       "      <td>5.0</td>\n",
       "      <td>3.6</td>\n",
       "      <td>1.4</td>\n",
       "      <td>0.2</td>\n",
       "      <td>Iris-setosa</td>\n",
       "      <td>1</td>\n",
       "    </tr>\n",
       "    <tr>\n",
       "      <th>...</th>\n",
       "      <td>...</td>\n",
       "      <td>...</td>\n",
       "      <td>...</td>\n",
       "      <td>...</td>\n",
       "      <td>...</td>\n",
       "      <td>...</td>\n",
       "    </tr>\n",
       "    <tr>\n",
       "      <th>95</th>\n",
       "      <td>5.7</td>\n",
       "      <td>3.0</td>\n",
       "      <td>4.2</td>\n",
       "      <td>1.2</td>\n",
       "      <td>Iris-versicolor</td>\n",
       "      <td>0</td>\n",
       "    </tr>\n",
       "    <tr>\n",
       "      <th>96</th>\n",
       "      <td>5.7</td>\n",
       "      <td>2.9</td>\n",
       "      <td>4.2</td>\n",
       "      <td>1.3</td>\n",
       "      <td>Iris-versicolor</td>\n",
       "      <td>0</td>\n",
       "    </tr>\n",
       "    <tr>\n",
       "      <th>97</th>\n",
       "      <td>6.2</td>\n",
       "      <td>2.9</td>\n",
       "      <td>4.3</td>\n",
       "      <td>1.3</td>\n",
       "      <td>Iris-versicolor</td>\n",
       "      <td>0</td>\n",
       "    </tr>\n",
       "    <tr>\n",
       "      <th>98</th>\n",
       "      <td>5.1</td>\n",
       "      <td>2.5</td>\n",
       "      <td>3.0</td>\n",
       "      <td>1.1</td>\n",
       "      <td>Iris-versicolor</td>\n",
       "      <td>0</td>\n",
       "    </tr>\n",
       "    <tr>\n",
       "      <th>99</th>\n",
       "      <td>5.7</td>\n",
       "      <td>2.8</td>\n",
       "      <td>4.1</td>\n",
       "      <td>1.3</td>\n",
       "      <td>Iris-versicolor</td>\n",
       "      <td>0</td>\n",
       "    </tr>\n",
       "  </tbody>\n",
       "</table>\n",
       "<p>100 rows × 6 columns</p>\n",
       "</div>"
      ],
      "text/plain": [
       "    Petal Length  Petal Width  Sepal Length  Sepal Width     Species Type  \\\n",
       "0            5.1          3.5           1.4          0.2      Iris-setosa   \n",
       "1            4.9          3.0           1.4          0.2      Iris-setosa   \n",
       "2            4.7          3.2           1.3          0.2      Iris-setosa   \n",
       "3            4.6          3.1           1.5          0.2      Iris-setosa   \n",
       "4            5.0          3.6           1.4          0.2      Iris-setosa   \n",
       "..           ...          ...           ...          ...              ...   \n",
       "95           5.7          3.0           4.2          1.2  Iris-versicolor   \n",
       "96           5.7          2.9           4.2          1.3  Iris-versicolor   \n",
       "97           6.2          2.9           4.3          1.3  Iris-versicolor   \n",
       "98           5.1          2.5           3.0          1.1  Iris-versicolor   \n",
       "99           5.7          2.8           4.1          1.3  Iris-versicolor   \n",
       "\n",
       "    target  \n",
       "0        1  \n",
       "1        1  \n",
       "2        1  \n",
       "3        1  \n",
       "4        1  \n",
       "..     ...  \n",
       "95       0  \n",
       "96       0  \n",
       "97       0  \n",
       "98       0  \n",
       "99       0  \n",
       "\n",
       "[100 rows x 6 columns]"
      ]
     },
     "execution_count": 4,
     "metadata": {},
     "output_type": "execute_result"
    }
   ],
   "source": [
    "#creating dataset \"target\"\n",
    "\n",
    "target = []\n",
    "\n",
    "for iter in range (len(data_1['Species Type'])):\n",
    "    if data_1['Species Type'][iter] == ('Iris-setosa'):\n",
    "        target.append(1)\n",
    "    else: \n",
    "        target.append(0)\n",
    "data_1['target'] = target\n",
    "\n",
    "data_1.head(100)\n"
   ]
  },
  {
   "cell_type": "code",
   "execution_count": 5,
   "metadata": {},
   "outputs": [
    {
     "data": {
      "text/html": [
       "<div>\n",
       "<style scoped>\n",
       "    .dataframe tbody tr th:only-of-type {\n",
       "        vertical-align: middle;\n",
       "    }\n",
       "\n",
       "    .dataframe tbody tr th {\n",
       "        vertical-align: top;\n",
       "    }\n",
       "\n",
       "    .dataframe thead th {\n",
       "        text-align: right;\n",
       "    }\n",
       "</style>\n",
       "<table border=\"1\" class=\"dataframe\">\n",
       "  <thead>\n",
       "    <tr style=\"text-align: right;\">\n",
       "      <th></th>\n",
       "      <th>Petal Length</th>\n",
       "      <th>Petal Width</th>\n",
       "      <th>Sepal Length</th>\n",
       "      <th>Sepal Width</th>\n",
       "      <th>target</th>\n",
       "    </tr>\n",
       "  </thead>\n",
       "  <tbody>\n",
       "    <tr>\n",
       "      <th>count</th>\n",
       "      <td>150.000000</td>\n",
       "      <td>150.000000</td>\n",
       "      <td>150.000000</td>\n",
       "      <td>150.000000</td>\n",
       "      <td>150.000000</td>\n",
       "    </tr>\n",
       "    <tr>\n",
       "      <th>mean</th>\n",
       "      <td>5.843333</td>\n",
       "      <td>3.054000</td>\n",
       "      <td>3.758667</td>\n",
       "      <td>1.198667</td>\n",
       "      <td>0.333333</td>\n",
       "    </tr>\n",
       "    <tr>\n",
       "      <th>std</th>\n",
       "      <td>0.828066</td>\n",
       "      <td>0.433594</td>\n",
       "      <td>1.764420</td>\n",
       "      <td>0.763161</td>\n",
       "      <td>0.472984</td>\n",
       "    </tr>\n",
       "    <tr>\n",
       "      <th>min</th>\n",
       "      <td>4.300000</td>\n",
       "      <td>2.000000</td>\n",
       "      <td>1.000000</td>\n",
       "      <td>0.100000</td>\n",
       "      <td>0.000000</td>\n",
       "    </tr>\n",
       "    <tr>\n",
       "      <th>25%</th>\n",
       "      <td>5.100000</td>\n",
       "      <td>2.800000</td>\n",
       "      <td>1.600000</td>\n",
       "      <td>0.300000</td>\n",
       "      <td>0.000000</td>\n",
       "    </tr>\n",
       "    <tr>\n",
       "      <th>50%</th>\n",
       "      <td>5.800000</td>\n",
       "      <td>3.000000</td>\n",
       "      <td>4.350000</td>\n",
       "      <td>1.300000</td>\n",
       "      <td>0.000000</td>\n",
       "    </tr>\n",
       "    <tr>\n",
       "      <th>75%</th>\n",
       "      <td>6.400000</td>\n",
       "      <td>3.300000</td>\n",
       "      <td>5.100000</td>\n",
       "      <td>1.800000</td>\n",
       "      <td>1.000000</td>\n",
       "    </tr>\n",
       "    <tr>\n",
       "      <th>max</th>\n",
       "      <td>7.900000</td>\n",
       "      <td>4.400000</td>\n",
       "      <td>6.900000</td>\n",
       "      <td>2.500000</td>\n",
       "      <td>1.000000</td>\n",
       "    </tr>\n",
       "  </tbody>\n",
       "</table>\n",
       "</div>"
      ],
      "text/plain": [
       "       Petal Length  Petal Width  Sepal Length  Sepal Width      target\n",
       "count    150.000000   150.000000    150.000000   150.000000  150.000000\n",
       "mean       5.843333     3.054000      3.758667     1.198667    0.333333\n",
       "std        0.828066     0.433594      1.764420     0.763161    0.472984\n",
       "min        4.300000     2.000000      1.000000     0.100000    0.000000\n",
       "25%        5.100000     2.800000      1.600000     0.300000    0.000000\n",
       "50%        5.800000     3.000000      4.350000     1.300000    0.000000\n",
       "75%        6.400000     3.300000      5.100000     1.800000    1.000000\n",
       "max        7.900000     4.400000      6.900000     2.500000    1.000000"
      ]
     },
     "execution_count": 5,
     "metadata": {},
     "output_type": "execute_result"
    }
   ],
   "source": [
    "data_1.describe()"
   ]
  },
  {
   "cell_type": "code",
   "execution_count": 6,
   "metadata": {},
   "outputs": [
    {
     "data": {
      "text/plain": [
       "target\n",
       "0    100\n",
       "1     50\n",
       "dtype: int64"
      ]
     },
     "execution_count": 6,
     "metadata": {},
     "output_type": "execute_result"
    }
   ],
   "source": [
    "data_1.groupby('target').size()"
   ]
  },
  {
   "cell_type": "markdown",
   "metadata": {},
   "source": [
    "### Question 3 : Splitting the data\n",
    "\n",
    "For this question we want to take this dataset of 150 rows, and split it into a train, test, and validation dataset, using the following proportions for each split:\n",
    "\n",
    "$$Training: 70\\%\n",
    "\\\\\n",
    "Validation: 10 \\%\n",
    "\\\\\n",
    "Testing: 20 \\%\n",
    "\\\\$$\n",
    "Sample data for each subset using stratified sampling. I.e. the training data should have roughly \n",
    " \n",
    " positive samples, the testing and validation dataset should also have roughly \n",
    " \n",
    " positive samples."
   ]
  },
  {
   "cell_type": "code",
   "execution_count": 7,
   "metadata": {},
   "outputs": [
    {
     "name": "stdout",
     "output_type": "stream",
     "text": [
      "Train data contains: target\n",
      "0    70\n",
      "1    35\n",
      "dtype: int64\n",
      "Validation data contains: target\n",
      "0    10\n",
      "1     5\n",
      "dtype: int64\n",
      "Test data contains: target\n",
      "0    20\n",
      "1    10\n",
      "dtype: int64\n"
     ]
    }
   ],
   "source": [
    "# Splitting data into positive and negative classes\n",
    "data_1_positive = data_1.loc[data_1['target'] == 1]\n",
    "data_1_negative = data_1.loc[data_1['target'] == 0]\n",
    "\n",
    "# Splitting positive class data for training, validation, and test\n",
    "train_data_pos, valid_data_pos, test_data_pos = (\n",
    "    data_1_positive.iloc[:35],\n",
    "    data_1_positive.iloc[35:40],\n",
    "    data_1_positive.iloc[40:50]\n",
    ")\n",
    "\n",
    "# Splitting negative class data for training, validation, and test\n",
    "train_data_neg, valid_data_neg, test_data_neg = (\n",
    "    data_1_negative.iloc[:70],\n",
    "    data_1_negative.iloc[70:80],\n",
    "    data_1_negative.iloc[80:100]\n",
    ")\n",
    "\n",
    "# Concatenating positive and negative class data for training, validation, and test\n",
    "train_data = pd.concat([train_data_pos, train_data_neg], ignore_index=True, axis=0).sample(105, random_state=1)\n",
    "valid_data = pd.concat([valid_data_pos, valid_data_neg], ignore_index=True, axis=0).sample(15, random_state=1)\n",
    "test_data = pd.concat([test_data_pos, test_data_neg], ignore_index=True, axis=0).sample(30, random_state=1)\n",
    "\n",
    "# Displaying the sizes of the training, validation, and test sets\n",
    "print(\"Train data contains:\", train_data.groupby('target').size())\n",
    "print(\"Validation data contains:\", valid_data.groupby('target').size())\n",
    "print(\"Test data contains:\", test_data.groupby('target').size())\n"
   ]
  },
  {
   "cell_type": "markdown",
   "metadata": {},
   "source": [
    "### Question 4:\n",
    "\n"
   ]
  },
  {
   "cell_type": "markdown",
   "metadata": {},
   "source": [
    "We will choose 2 iris dataset ( petal length, petal width)"
   ]
  },
  {
   "cell_type": "code",
   "execution_count": 8,
   "metadata": {},
   "outputs": [
    {
     "name": "stdout",
     "output_type": "stream",
     "text": [
      "17    0\n",
      "21    0\n",
      "10    0\n",
      "19    0\n",
      "14    0\n",
      "20    0\n",
      "26    0\n",
      "3     1\n",
      "24    0\n",
      "22    0\n",
      "23    0\n",
      "4     1\n",
      "2     1\n",
      "25    0\n",
      "6     1\n",
      "18    0\n",
      "13    0\n",
      "7     1\n",
      "27    0\n",
      "1     1\n",
      "16    0\n",
      "0     1\n",
      "15    0\n",
      "29    0\n",
      "28    0\n",
      "9     1\n",
      "8     1\n",
      "12    0\n",
      "11    0\n",
      "5     1\n",
      "Name: target, dtype: int64\n"
     ]
    }
   ],
   "source": [
    "# Feature sets\n",
    "train_x = train_data[['Petal Width', 'Petal Length']]\n",
    "valid_x = valid_data[['Petal Width', 'Petal Length']]\n",
    "test_x = test_data[['Petal Width', 'Petal Length']]\n",
    "\n",
    "# Target sets\n",
    "train_y = train_data['target']\n",
    "valid_y = valid_data['target']\n",
    "test_y = test_data['target']\n",
    "\n",
    "# Printing target values for the test set\n",
    "print(test_y)\n",
    "\n"
   ]
  },
  {
   "cell_type": "markdown",
   "metadata": {},
   "source": [
    "error function for a binary regression, is the bbinary cross entropy, defined as:\n",
    "\n",
    "$$L = -\\frac{1}{n}\\sum_i^n y_i \\log(\\hat{y_i}) + (1-y_i) \\log(1-\\hat{y_i})$$\n",
    "\n",
    "Where the finite difference gradient of this function is defined by:\n",
    "\n",
    "$$\\frac{\\partial L}{\\partial \\beta_i} = \\frac{L(x,y;\\beta_i + \\epsilon, \\beta) - L(x,y;\\beta_i, \\beta)}{\\beta_i + \\epsilon - \\beta_i} \\\\[12pt]\n",
    "\n",
    "\\frac{\\partial L}{\\partial \\beta_i}=\\frac{L(x,y;\\beta_i + \\epsilon, \\beta) - L(x,y;\\beta_i, \\beta)}{\\epsilon} \n",
    "$$"
   ]
  },
  {
   "cell_type": "code",
   "execution_count": 9,
   "metadata": {},
   "outputs": [],
   "source": [
    "def bce(y, yhat):\n",
    "    # Convert inputs to NumPy arrays\n",
    "    y = np.array(y)\n",
    "    yhat = np.array(yhat)\n",
    "\n",
    "    # Compute the negative and positive parts of the binary cross-entropy loss\n",
    "    neg_part = (1 - y) * np.log(1 - yhat)\n",
    "    pos_part = y * np.log(yhat)\n",
    "\n",
    "    # Calculate the overall binary cross-entropy loss\n",
    "    N = len(y)\n",
    "    bce_loss = (-1/N) * np.sum(pos_part + neg_part)\n",
    "\n",
    "    return bce_loss"
   ]
  },
  {
   "cell_type": "code",
   "execution_count": 10,
   "metadata": {},
   "outputs": [],
   "source": [
    "# implementation of logistic regressor class\n",
    "class LogisticRegressor:\n",
    "\n",
    "    def __init__(self, n_features: int = 2):\n",
    "\n",
    "        # Initialize parameters randomly\n",
    "        self.params = np.random.randn(n_features + 1)\n",
    "\n",
    "    def lm(self, x):\n",
    "\n",
    "        # Linear regresor\n",
    "        h = self.params[0] + self.params[1:] @ x.T\n",
    "        return h\n",
    "\n",
    "    def logistic(self, h):\n",
    "\n",
    "        # Logistic Regresor\n",
    "        z = 1 / (1 + np.exp(-h))\n",
    "        return z\n",
    "\n",
    "    def gradient_decent(self, x, y, epsilon = 1e-4):\n",
    "\n",
    "        # Gradient of variables under examination\n",
    "        n = len(self.params)\n",
    "        epsilon_matrix = np.diag(np.zeros(n) + np.array(epsilon))\n",
    "        params_matrix = np.full((n,n),self.params) + epsilon_matrix\n",
    "        \n",
    "        # Gradient vector\n",
    "        gradient = np.zeros(n)\n",
    "\n",
    "        # Calculate gradient for each row of epsilon matrix\n",
    "        for i in range(n):\n",
    "            params = params_matrix[i,:]\n",
    "            h_e = params[0] + params[1:] @ x.T\n",
    "            z_e = self.logistic(h_e)\n",
    "            z = self.logistic(self.lm(x))\n",
    "            gradient[i] = (bce(y, z_e) - bce(y, z)) / epsilon\n",
    "\n",
    "        return gradient\n",
    "\n",
    "    def fit(self, train_x, train_y, valid_x, valid_y, epochs: int = 1000, lr: float = 0.01):\n",
    "       \n",
    "        # Train the model using gradient descent and finite-differences\n",
    "        training_loss   = []\n",
    "        validation_loss = []\n",
    "\n",
    "        for epoch in range(epochs):\n",
    "          gradient = self.gradient_decent(train_x, train_y, epsilon = 1e-4)\n",
    "          z = self.logistic(self.lm(train_x))\n",
    "          z_validation = self.logistic(self.lm(valid_x))\n",
    "          self.params -= (lr * gradient)\n",
    "          training_loss.append(bce(train_y, z))\n",
    "          validation_loss.append(bce(valid_y, z_validation)) \n",
    "\n",
    "        return training_loss, validation_loss\n",
    "   \n",
    "    def predict(self, x, threshold = 0.5):\n",
    "\n",
    "        # Model prediction based on regressor variables and threshold\n",
    "        self.probabiity= self.logistic(self.lm(x))\n",
    "        yhat = [1 if i >= threshold else 0 for i in self.probabiity]\n",
    "        return yhat\n",
    "    "
   ]
  },
  {
   "cell_type": "markdown",
   "metadata": {},
   "source": [
    "### Question 5:\n",
    "\n",
    "\n",
    "Visualise the training and validation loss. Is there a point at which the model begins to over fit? How do you know that the model is beginning to overfit by looking at these curves?"
   ]
  },
  {
   "cell_type": "code",
   "execution_count": 11,
   "metadata": {},
   "outputs": [],
   "source": [
    "LRG = LogisticRegressor()\n"
   ]
  },
  {
   "cell_type": "code",
   "execution_count": 12,
   "metadata": {},
   "outputs": [],
   "source": [
    "training_loss, validation_loss = LRG.fit(train_x, train_y, valid_x, valid_y)"
   ]
  },
  {
   "cell_type": "code",
   "execution_count": 13,
   "metadata": {},
   "outputs": [
    {
     "data": {
      "image/png": "[encoded data removed]",
      "text/plain": [
       "<Figure size 640x480 with 1 Axes>"
      ]
     },
     "metadata": {},
     "output_type": "display_data"
    }
   ],
   "source": [
    "plt.plot(training_loss)\n",
    "plt.plot(validation_loss)\n",
    "plt.title(\"Training vs validation loss\")\n",
    "plt.xlabel(\"Epochs\")\n",
    "plt.legend(['Training loss','Validation loss'])\n",
    "plt.ylabel(\"Loss\")\n",
    "plt.grid()\n",
    "plt.show()"
   ]
  },
  {
   "cell_type": "code",
   "execution_count": 14,
   "metadata": {},
   "outputs": [
    {
     "name": "stdout",
     "output_type": "stream",
     "text": [
      "[0, 0, 0, 0, 0, 0, 0, 1, 0, 0, 0, 1, 1, 0, 1, 0, 0, 1, 0, 0, 0, 1, 0, 0, 0, 1, 1, 0, 0, 1]\n"
     ]
    }
   ],
   "source": [
    "yhat = LRG.predict(test_x)\n",
    "print(yhat)"
   ]
  },
  {
   "cell_type": "markdown",
   "metadata": {},
   "source": [
    "Visualizing the data to see if there is overfitting  or not."
   ]
  },
  {
   "cell_type": "code",
   "execution_count": 15,
   "metadata": {},
   "outputs": [],
   "source": [
    "# predict if there is overfitting or not \n",
    "valid_loss = validation_loss[0]\n",
    "for iter in range(1,100):\n",
    "\n",
    "    if validation_loss[iter]< valid_loss:\n",
    "        valid_loss = validation_loss[iter]\n",
    "\n",
    "    else:\n",
    "        print('overfitting at ', iter)\n",
    "        break\n",
    "\n",
    "\n",
    "    # if it did not print \" then it is not overfitting\""
   ]
  },
  {
   "cell_type": "markdown",
   "metadata": {},
   "source": [
    "### Question 6: \n",
    "\n",
    "\n",
    "Predict the class labels for the testing set.\n",
    "\n",
    "For the testing set, calculate the:\n",
    "\n",
    "$$\\text{TP number of true positives}$$\n",
    "$$\\text{TN number of true negatives}$$\n",
    "$$\\text{FP number of false positives}$$\n",
    "$$\\text{FN number of false negatives}$$\n"
   ]
  },
  {
   "cell_type": "code",
   "execution_count": 16,
   "metadata": {},
   "outputs": [],
   "source": [
    "def performance_measure(y, yhat):\n",
    "    # Logical AND Gate (TP: True Positives)\n",
    "    TP = np.sum(np.logical_and(y, yhat))\n",
    "    \n",
    "    # Logical NOR Gate (TN: True Negative)\n",
    "    TN = np.sum(np.logical_and(np.logical_not(y),np.logical_not(yhat)))\n",
    "    \n",
    "    # Logical A'B Gate (FP: False Positives)\n",
    "    FP = np.sum(np.logical_and(np.logical_not(y),yhat))\n",
    "    \n",
    "    # Logical AB' Gate (FN: False Negatives)\n",
    "    FN = np.sum(np.logical_and(y,np.logical_not(yhat)))\n",
    "    \n",
    "    return TP, TN, FP, FN\n"
   ]
  },
  {
   "cell_type": "code",
   "execution_count": 17,
   "metadata": {},
   "outputs": [
    {
     "name": "stdout",
     "output_type": "stream",
     "text": [
      "(9, 20, 0, 1)\n"
     ]
    }
   ],
   "source": [
    "y = test_y\n",
    "TP, TN, FP, FN  = performance_measure(y,yhat)\n",
    "print(performance_measure(y, yhat))"
   ]
  },
  {
   "cell_type": "markdown",
   "metadata": {},
   "source": [
    "### Question 7:"
   ]
  },
  {
   "cell_type": "markdown",
   "metadata": {},
   "source": [
    "In order to calculate the precision and the recall and F1 score\n",
    "\n",
    "By implementing these equations:\n",
    "$$Precission = \\frac{TP}{TP + FP}$$\n",
    "\n",
    "$$Recall = \\frac{TP}{TP + FN}$$\n",
    "\n",
    "$$F_{\\beta} = (1 + \\beta^{2})\\frac{Precission * Recall}{(\\beta^{2}* Precision) + Recall)}$$\n"
   ]
  },
  {
   "cell_type": "code",
   "execution_count": 18,
   "metadata": {},
   "outputs": [],
   "source": [
    "def precission(y,yhat):\n",
    "    #Calculate precission using TP,TN,FP,FN.\n",
    "    TP,TN,FP,FN = performance_measure(y,yhat)\n",
    "    pres = TP / (TP + FP) # Calculate precission\n",
    "    return pres\n",
    "\n",
    "def recall(y,yhat):\n",
    "    #Calculate recall using performance measure\n",
    "    TP,TN,FP,FN = performance_measure(y,yhat)\n",
    "    rec = TP /(TP+ FN)\n",
    "    return rec\n",
    "\n",
    "def f1score(y, yhat, beta=1):\n",
    "    #Calculate F1 score using precision and recall\n",
    "    Precision = precission(y, yhat)\n",
    "    Recall = recall(y, yhat)\n",
    "\n",
    "    #Compute F1 score\n",
    "    F1 = (1 + beta**2) * ((Precision * Recall) / ((beta**2 * Precision) + Recall))\n",
    "    return F1"
   ]
  },
  {
   "cell_type": "code",
   "execution_count": 19,
   "metadata": {},
   "outputs": [
    {
     "name": "stdout",
     "output_type": "stream",
     "text": [
      "0.3333333333333333 1.0\n"
     ]
    }
   ],
   "source": [
    "pr = precission(test_y, yhat = 0.5)\n",
    "rc = recall(test_y, yhat  =0.5)\n",
    "print(pr, rc)"
   ]
  },
  {
   "cell_type": "markdown",
   "metadata": {},
   "source": [
    "### Question 8:"
   ]
  },
  {
   "cell_type": "markdown",
   "metadata": {},
   "source": [
    "Generate a report using the precision, recall and \n",
    " and confusion matrix. The report should be printed like:\n",
    "\n",
    "    |        |          | Predicted |          |\n",
    "    |        |          |  Positive | Negative |\n",
    "    | Actual | Positive |         5 |        2 |\n",
    "    |        | Negative |         3 |        1 |\n",
    "    \n",
    "    - Precision: 0.6\n",
    "    - Recall: 0.6\n",
    "    - F_1 Score: 0.6"
   ]
  },
  {
   "cell_type": "code",
   "execution_count": 20,
   "metadata": {},
   "outputs": [],
   "source": [
    "def print_report(y,yhat):\n",
    "    \n",
    "    #Calculate and print metrics for the classification problem\n",
    "    TP,TN,FP,FN = performance_measure(y,yhat)\n",
    "    pr = np.round( precission(y,yhat),1)\n",
    "    rc = np.round( recall(y,yhat),1)\n",
    "    f1 = np.round(f1score(y,yhat),1)\n",
    "\n",
    "    row_1 = \"|\" + \" \" * 8 + \"|\" + \" \" * 10 + \"| Predicted |\" + \" \" *10 + \"|\\n\"\n",
    "    row_2 = \"|\" + \" \" * 8 + \"|\" + \" \" * 10 + \"|  Positive |\" + \" Negative |\\n\"\n",
    "    row_3 = \"| Actual |\" + \" Positive |\" + \" \" * (10 - len(str(TP))) + str(TP) + \" |\" + \" \" * (9 - len(str(FN))) + str(FN) + \" |\\n\"\n",
    "    row_4 = \"|\" + \" \" * 8 + \"|\" + \" Negative |\" + \" \" * (10 - len(str(FP))) + str(FP) + \" |\" + \" \" * (9 - len(str(TN))) + str(TN) + \" |\\n\\n\"\n",
    "    row_5 = \"- Precision: {0} \\n\".format(pr)\n",
    "    row_6 = \"- Recall: {0} \\n\".format(rc)\n",
    "    row_7 = \"- F_1 Score: {0} \\n\".format(f1)\n",
    "\n",
    "    grid_mat  = (row_1+row_2+row_3+row_4+row_5+row_6+row_7)\n",
    "    print(grid_mat)"
   ]
  },
  {
   "cell_type": "code",
   "execution_count": 21,
   "metadata": {},
   "outputs": [
    {
     "name": "stdout",
     "output_type": "stream",
     "text": [
      "|        |          | Predicted |          |\n",
      "|        |          |  Positive | Negative |\n",
      "| Actual | Positive |         9 |        1 |\n",
      "|        | Negative |         0 |       20 |\n",
      "\n",
      "- Precision: 1.0 \n",
      "- Recall: 0.9 \n",
      "- F_1 Score: 0.9 \n",
      "\n"
     ]
    }
   ],
   "source": [
    "print_report(y,yhat)"
   ]
  },
  {
   "cell_type": "markdown",
   "metadata": {},
   "source": [
    "### Question 9: "
   ]
  },
  {
   "cell_type": "markdown",
   "metadata": {},
   "source": [
    "Calculating the true and false positive rate, then generating a ROC curve"
   ]
  },
  {
   "cell_type": "markdown",
   "metadata": {},
   "source": [
    "$$FP_R = \\frac{FP}{FP + TN}$$\n",
    "\n",
    "$$TP_R = \\frac{TP}{TP + TN}$$"
   ]
  },
  {
   "cell_type": "code",
   "execution_count": 22,
   "metadata": {},
   "outputs": [],
   "source": [
    "def roc(y, LRG ,x, threshold_step=0.01):\n",
    "    # iteratively increase the threshold by threshold_step,\n",
    "    # calculating the TP and FP rate for each iteration. This function \n",
    "    # should return two lists, a list of TP rates, and a list of FP rates.\n",
    "\n",
    "    # Calculate ROC curve.\n",
    "    ## Creating an array 'steps' ranging from 0 to 1 with a specified step size 'threshold_step'\n",
    "    steps  = np.arange(0,1, threshold_step)\n",
    "\n",
    "    ## Initializing empty lists to store true positives (tps) and false positives (fps)\n",
    "    tps    = []\n",
    "    fps    = []\n",
    "    \n",
    "    for step in steps:\n",
    "        pred = LRG.predict(x, step)\n",
    "        TP,TN,FP,FN = performance_measure(y,pred)\n",
    "        tps.append(TP / (TP + FN))\n",
    "        fps.append(FP / (FP + TN))\n",
    "    return fps, tps\n",
    "    \n",
    "fps, tps= roc(test_y ,LRG,test_x)\n"
   ]
  },
  {
   "cell_type": "markdown",
   "metadata": {},
   "source": [
    "# visualise the ROC curve here"
   ]
  },
  {
   "cell_type": "code",
   "execution_count": 23,
   "metadata": {},
   "outputs": [
    {
     "data": {
      "image/png": "[encoded data removed]",
      "text/plain": [
       "<Figure size 640x480 with 1 Axes>"
      ]
     },
     "metadata": {},
     "output_type": "display_data"
    }
   ],
   "source": [
    "\n",
    "plt.plot(fps,tps)\n",
    "plt.title(\"ROC Curve\")\n",
    "plt.xlabel(\"False positive rate\")\n",
    "plt.ylabel(\"True positive rate\")\n",
    "plt.show()"
   ]
  },
  {
   "cell_type": "markdown",
   "metadata": {},
   "source": [
    "### Question 10:"
   ]
  },
  {
   "cell_type": "markdown",
   "metadata": {},
   "source": [
    "Now that you’ve created a logistic regressor for two features of the Iris dataset and have created some analytic results. Select another two columns (i.e. petal width and sepal length, or petal length and sepal width). Create a different logistic regressor using these new columns and create the same results as you did with questions 8 and 9.\n",
    "\n",
    "Compare these two models trained with different columns. Which model is best, and why do we know that it’s the best?"
   ]
  },
  {
   "cell_type": "markdown",
   "metadata": {},
   "source": [
    "\"Sepal_Length\" and \"Sepal_Width\" exhibit the least distinguishable characteristics for a logistic model; consequently, these variables will be employed to train model."
   ]
  },
  {
   "cell_type": "code",
   "execution_count": 24,
   "metadata": {},
   "outputs": [],
   "source": [
    "# An object using the LogisticRegressor class is generated. \n",
    "LRG2 = LogisticRegressor()\n",
    "\n",
    "\n",
    "train_x=train_data[['Sepal Width','Sepal Length']]# this is train data x, I just get the petal width and petal lenght as x\n",
    "train_y=train_data['target']# take the target value as y\n",
    "\n",
    "valid_x=valid_data[['Sepal Width','Sepal Length']]\n",
    "valid_y=valid_data['target']\n",
    "\n",
    "test_x=test_data[['Sepal Width','Sepal Length']]\n",
    "test_y=test_data['target']\n",
    "\n",
    "# The model is adjusted\n",
    "training_loss, validation_loss = LRG2.fit(train_x, train_y, valid_x, valid_y)\n"
   ]
  },
  {
   "cell_type": "code",
   "execution_count": 25,
   "metadata": {},
   "outputs": [
    {
     "data": {
      "image/png": "[encoded data removed]",
      "text/plain": [
       "<Figure size 640x480 with 1 Axes>"
      ]
     },
     "metadata": {},
     "output_type": "display_data"
    }
   ],
   "source": [
    "# The model training and validation loss are plotted.\n",
    "\n",
    "plt.plot(training_loss)\n",
    "plt.plot(validation_loss)\n",
    "plt.title(\"Training vs validation loss\")\n",
    "plt.xlabel(\"Epochs\")\n",
    "plt.ylabel(\"Loss\")\n",
    "plt.legend(['Training loss','Validation loss'])\n",
    "plt.grid()\n",
    "plt.show()"
   ]
  },
  {
   "cell_type": "code",
   "execution_count": 26,
   "metadata": {},
   "outputs": [
    {
     "name": "stdout",
     "output_type": "stream",
     "text": [
      "|        |          | Predicted |          |\n",
      "|        |          |  Positive | Negative |\n",
      "| Actual | Positive |         9 |        1 |\n",
      "|        | Negative |         0 |       20 |\n",
      "\n",
      "- Precision: 1.0 \n",
      "- Recall: 0.9 \n",
      "- F_1 Score: 0.9 \n",
      "\n"
     ]
    }
   ],
   "source": [
    "y = test_y\n",
    "\n",
    "yhat_2 = LRG2.predict(test_x)\n",
    "\n",
    "print_report(y,yhat_2)\n"
   ]
  },
  {
   "cell_type": "code",
   "execution_count": 27,
   "metadata": {},
   "outputs": [
    {
     "data": {
      "image/png": "[encoded data removed]",
      "text/plain": [
       "<Figure size 640x480 with 1 Axes>"
      ]
     },
     "metadata": {},
     "output_type": "display_data"
    }
   ],
   "source": [
    "fps, tps =roc(y, LRG2, test_x)\n",
    "plt.plot(fps,tps)\n",
    "plt.title(\"ROC Curve\")\n",
    "plt.xlabel(\"False positive rate\")\n",
    "plt.ylabel(\"True positive rate\")\n",
    "plt.show()"
   ]
  },
  {
   "cell_type": "markdown",
   "metadata": {},
   "source": [
    "The outcomes of training for both models indicate that, with this dataset, employing pairs of distinct regressor variables yields  identical results when assessed with the test data. Even in the least favorable scenario, the results remain similar, regardless the chosen threshold.\n",
    "\n",
    "\n",
    "\n",
    "\n"
   ]
  }
 ],
 "metadata": {
  "kernelspec": {
   "display_name": "Python 3 (ipykernel)",
   "language": "python",
   "name": "python3"
  },
  "language_info": {
   "codemirror_mode": {
    "name": "ipython",
    "version": 3
   },
   "file_extension": ".py",
   "mimetype": "text/x-python",
   "name": "python",
   "nbconvert_exporter": "python",
   "pygments_lexer": "ipython3",
   "version": "3.11.5"
  }
 },
 "nbformat": 4,
 "nbformat_minor": 2
}
